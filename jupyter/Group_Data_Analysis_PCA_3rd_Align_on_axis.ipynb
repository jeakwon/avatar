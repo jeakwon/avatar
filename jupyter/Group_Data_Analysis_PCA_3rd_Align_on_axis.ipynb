{
 "cells": [
  {
   "cell_type": "markdown",
   "id": "845d54a5",
   "metadata": {},
   "source": [
    "# Group Data Analysis PCA 3rd Trial - Align on axis\n",
    "* Version: '0.0.4'\n",
    "* Date: 2021-05-03\n",
    "* Author: Jea Kwon\n",
    "* Description: Previously PCA analysis with avatar coordinates, spine aligned on plane.  \n",
    "this time using spine aligned on axis"
   ]
  },
  {
   "cell_type": "code",
   "execution_count": 1,
   "id": "25d7bbb6",
   "metadata": {},
   "outputs": [
    {
     "data": {
      "text/html": [
       "        <script type=\"text/javascript\">\n",
       "        window.PlotlyConfig = {MathJaxConfig: 'local'};\n",
       "        if (window.MathJax) {MathJax.Hub.Config({SVG: {font: \"STIX-Web\"}});}\n",
       "        if (typeof require !== 'undefined') {\n",
       "        require.undef(\"plotly\");\n",
       "        requirejs.config({\n",
       "            paths: {\n",
       "                'plotly': ['https://cdn.plot.ly/plotly-latest.min']\n",
       "            }\n",
       "        });\n",
       "        require(['plotly'], function(Plotly) {\n",
       "            window._Plotly = Plotly;\n",
       "        });\n",
       "        }\n",
       "        </script>\n",
       "        "
      ]
     },
     "metadata": {},
     "output_type": "display_data"
    }
   ],
   "source": [
    "from avatarpy import Avatar\n",
    "import os\n",
    "import glob\n",
    "import numpy as np\n",
    "import pandas as pd\n",
    "import seaborn as sns\n",
    "import matplotlib.pyplot as plt\n",
    "import cufflinks as cf\n",
    "from scipy.stats import zscore\n",
    "from sklearn.preprocessing import StandardScaler\n",
    "from sklearn.decomposition import PCA\n",
    "cf.go_offline(connected=True)"
   ]
  },
  {
   "cell_type": "code",
   "execution_count": 2,
   "id": "16c894f5",
   "metadata": {},
   "outputs": [],
   "source": [
    "root = r\"C:\\Users\\Jay\\Desktop\\avatar_young_adult\\data\\best1_20210503\""
   ]
  },
  {
   "cell_type": "code",
   "execution_count": 3,
   "id": "6829d38e",
   "metadata": {
    "scrolled": false
   },
   "outputs": [],
   "source": [
    "avatars = dict(\n",
    "    wt=dict(\n",
    "        young=[],\n",
    "        adult=[],\n",
    "    ),\n",
    "    ko=dict(\n",
    "        young=[],\n",
    "        adult=[],\n",
    "    )\n",
    ")\n",
    "for path, subdirs, files in os.walk(root):\n",
    "    for name in files:\n",
    "        if name.lower().endswith('.csv'):\n",
    "            csv_path = os.path.join(path, name)\n",
    "            age = os.path.basename(os.path.dirname(path))\n",
    "            genotype = os.path.basename(os.path.dirname(os.path.dirname(path)))\n",
    "            \n",
    "            avatars[genotype][age].append(Avatar(csv_path=csv_path, ID=name))"
   ]
  },
  {
   "cell_type": "markdown",
   "id": "74823e15",
   "metadata": {},
   "source": [
    "## Create walking event data\n",
    "### Definition of walking\n",
    "- Moved more than 5 cm in 1 second(20=Frame)\n",
    "- More details take a look Group_Data_Analysis_PCA_1st_Trial"
   ]
  },
  {
   "cell_type": "markdown",
   "id": "d00c7ff0",
   "metadata": {},
   "source": [
    "## Event Search function"
   ]
  },
  {
   "cell_type": "code",
   "execution_count": 4,
   "id": "2b7e9357",
   "metadata": {},
   "outputs": [],
   "source": [
    "def get_event_indices(boo, event_length):\n",
    "    \"\"\"Returns list of event indices.\n",
    "    \n",
    "    ex) [(start 1, end 1), (start 2, end 2), (start 3, end 3), ..., (start N, end N)]\n",
    "    \"\"\"\n",
    "    indices = np.arange(len(boo))\n",
    "    condition = np.nonzero(boo[1:] != boo[:-1])[0] + 1\n",
    "    split_indices = np.split(indices, condition)\n",
    "    true_indices = split_indices[0::2] if boo[0] else split_indices[1::2]\n",
    "    event_indice_pair = [(idx[0]-event_length+1, idx[0]+1) for idx in true_indices]\n",
    "    return event_indice_pair"
   ]
  },
  {
   "cell_type": "markdown",
   "id": "c03bb4fc",
   "metadata": {},
   "source": [
    "## Validation of event search"
   ]
  },
  {
   "cell_type": "markdown",
   "id": "742610d0",
   "metadata": {},
   "source": [
    "- Take a look Group_Data_Analysis_PCA_2nd_Trial"
   ]
  },
  {
   "cell_type": "markdown",
   "id": "14226966",
   "metadata": {},
   "source": [
    "## Collecting Event coordinate data"
   ]
  },
  {
   "cell_type": "markdown",
   "id": "5c49be69",
   "metadata": {},
   "source": [
    "- Take a look Group_Data_Analysis_PCA_2nd_Trial"
   ]
  },
  {
   "cell_type": "code",
   "execution_count": 5,
   "id": "266d23df",
   "metadata": {
    "scrolled": true
   },
   "outputs": [],
   "source": [
    "wt_young_event_data = []\n",
    "for avatar in avatars['wt']['young']:\n",
    "    boo = (avatar.distance['anus'].rolling(20).sum()>5).values # boolean array\n",
    "    event_indices = get_event_indices(boo, 20)\n",
    "    avatar = avatar.transform.align_on_axis()\n",
    "    for i, idx in enumerate(event_indices):\n",
    "        coords = avatar.data.loc[avatar.index[idx[0]:idx[1]]]\n",
    "        if coords.shape[0]!=20:\n",
    "            continue\n",
    "        wt_young_event_data.append(coords.values.flatten())\n",
    "wt_young_event_data = np.stack(wt_young_event_data)"
   ]
  },
  {
   "cell_type": "code",
   "execution_count": 6,
   "id": "a475bc7f",
   "metadata": {
    "scrolled": false
   },
   "outputs": [],
   "source": [
    "wt_adult_event_data = []\n",
    "for avatar in avatars['wt']['adult']:\n",
    "    boo = (avatar.distance['anus'].rolling(20).sum()>5).values # boolean array\n",
    "    event_indices = get_event_indices(boo, 20)\n",
    "    event_data = []\n",
    "    avatar = avatar.transform.align_on_axis()\n",
    "    for i, idx in enumerate(event_indices):\n",
    "        coords = avatar.data.loc[avatar.index[idx[0]:idx[1]]]\n",
    "        if coords.shape[0]!=20:\n",
    "            continue\n",
    "        wt_adult_event_data.append(coords.values.flatten())\n",
    "wt_adult_event_data = np.stack(wt_adult_event_data)"
   ]
  },
  {
   "cell_type": "markdown",
   "id": "5654552f",
   "metadata": {},
   "source": [
    "total 1857 events acquired from 5 wt young mice with 5 session.  \n",
    "total 2248 events acquired from 5 wt adult mice with 5 session."
   ]
  },
  {
   "cell_type": "code",
   "execution_count": 7,
   "id": "bde87255",
   "metadata": {},
   "outputs": [],
   "source": [
    "X = np.concatenate([wt_young_event_data, wt_adult_event_data])\n",
    "X_ = StandardScaler().fit_transform(X)\n",
    "\n",
    "pca = PCA(n_components=2)\n",
    "pc = pca.fit_transform(X_)"
   ]
  },
  {
   "cell_type": "code",
   "execution_count": 8,
   "id": "fa88ef76",
   "metadata": {},
   "outputs": [],
   "source": [
    "y = np.concatenate([np.zeros(wt_young_event_data.shape[0]), np.ones(wt_adult_event_data.shape[0])])"
   ]
  },
  {
   "cell_type": "code",
   "execution_count": 9,
   "id": "354107ef",
   "metadata": {},
   "outputs": [],
   "source": [
    "pc_y = np.c_[pc,y]\n",
    "df = pd.DataFrame(pc_y,columns=['PC1','PC2','genotype'])"
   ]
  },
  {
   "cell_type": "code",
   "execution_count": 13,
   "id": "5e7b1d50",
   "metadata": {},
   "outputs": [
    {
     "data": {
      "text/plain": [
       "(-50.0, 50.0)"
      ]
     },
     "execution_count": 13,
     "metadata": {},
     "output_type": "execute_result"
    },
    {
     "data": {
      "image/png": "[encoded data removed]",
      "text/plain": [
       "<Figure size 432x288 with 1 Axes>"
      ]
     },
     "metadata": {
      "needs_background": "light"
     },
     "output_type": "display_data"
    }
   ],
   "source": [
    "sns.scatterplot(data=df,x='PC1',y='PC2',hue='genotype', alpha=0.2)\n",
    "plt.xlim(-50, 50)\n",
    "plt.ylim(-50, 50)"
   ]
  },
  {
   "cell_type": "code",
   "execution_count": null,
   "id": "6f1314f7",
   "metadata": {},
   "outputs": [],
   "source": []
  }
 ],
 "metadata": {
  "kernelspec": {
   "display_name": "Python 3",
   "language": "python",
   "name": "python3"
  },
  "language_info": {
   "codemirror_mode": {
    "name": "ipython",
    "version": 3
   },
   "file_extension": ".py",
   "mimetype": "text/x-python",
   "name": "python",
   "nbconvert_exporter": "python",
   "pygments_lexer": "ipython3",
   "version": "3.6.13"
  }
 },
 "nbformat": 4,
 "nbformat_minor": 5
}
