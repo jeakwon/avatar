{
 "cells": [
  {
   "cell_type": "markdown",
   "id": "845d54a5",
   "metadata": {},
   "source": [
    "# Group Data Analysis PCA 8th Trial - Pearson_correlation\n",
    "* Version: '0.0.4'\n",
    "* Date: 2021-05-03\n",
    "* Author: Jea Kwon\n",
    "* Description: PCA analysis with "
   ]
  },
  {
   "cell_type": "code",
   "execution_count": 1,
   "id": "25d7bbb6",
   "metadata": {},
   "outputs": [
    {
     "data": {
      "text/html": [
       "        <script type=\"text/javascript\">\n",
       "        window.PlotlyConfig = {MathJaxConfig: 'local'};\n",
       "        if (window.MathJax) {MathJax.Hub.Config({SVG: {font: \"STIX-Web\"}});}\n",
       "        if (typeof require !== 'undefined') {\n",
       "        require.undef(\"plotly\");\n",
       "        requirejs.config({\n",
       "            paths: {\n",
       "                'plotly': ['https://cdn.plot.ly/plotly-latest.min']\n",
       "            }\n",
       "        });\n",
       "        require(['plotly'], function(Plotly) {\n",
       "            window._Plotly = Plotly;\n",
       "        });\n",
       "        }\n",
       "        </script>\n",
       "        "
      ]
     },
     "metadata": {},
     "output_type": "display_data"
    }
   ],
   "source": [
    "from avatarpy import Avatar\n",
    "import os\n",
    "import glob\n",
    "import numpy as np\n",
    "import pandas as pd\n",
    "import seaborn as sns\n",
    "import matplotlib.pyplot as plt\n",
    "import cufflinks as cf\n",
    "from scipy.stats import zscore\n",
    "from sklearn.preprocessing import StandardScaler\n",
    "from sklearn.decomposition import PCA\n",
    "cf.go_offline(connected=True)"
   ]
  },
  {
   "cell_type": "code",
   "execution_count": 2,
   "id": "16c894f5",
   "metadata": {},
   "outputs": [],
   "source": [
    "root = r\"C:\\Users\\Jay\\Desktop\\avatar_young_adult\\data\\best1_20210503\""
   ]
  },
  {
   "cell_type": "code",
   "execution_count": 3,
   "id": "6829d38e",
   "metadata": {
    "scrolled": false
   },
   "outputs": [],
   "source": [
    "avatars = dict(\n",
    "    wt=dict(\n",
    "        young=[],\n",
    "        adult=[],\n",
    "    ),\n",
    "    ko=dict(\n",
    "        young=[],\n",
    "        adult=[],\n",
    "    )\n",
    ")\n",
    "for path, subdirs, files in os.walk(root):\n",
    "    for name in files:\n",
    "        if name.lower().endswith('.csv'):\n",
    "            csv_path = os.path.join(path, name)\n",
    "            age = os.path.basename(os.path.dirname(path))\n",
    "            genotype = os.path.basename(os.path.dirname(os.path.dirname(path)))\n",
    "            \n",
    "            avatars[genotype][age].append(Avatar(csv_path=csv_path, ID=name))"
   ]
  },
  {
   "cell_type": "markdown",
   "id": "74823e15",
   "metadata": {},
   "source": [
    "## Create walking event data\n",
    "### Definition of walking\n",
    "- Moved more than 5 cm in 1 second(20=Frame)\n",
    "- More details take a look Group_Data_Analysis_PCA_1st_Trial"
   ]
  },
  {
   "cell_type": "markdown",
   "id": "d00c7ff0",
   "metadata": {},
   "source": [
    "## Event Search function"
   ]
  },
  {
   "cell_type": "code",
   "execution_count": 4,
   "id": "2b7e9357",
   "metadata": {},
   "outputs": [],
   "source": [
    "def get_event_indices(boo, event_length):\n",
    "    \"\"\"Returns list of event indices.\n",
    "    \n",
    "    ex) [(start 1, end 1), (start 2, end 2), (start 3, end 3), ..., (start N, end N)]\n",
    "    \"\"\"\n",
    "    indices = np.arange(len(boo))\n",
    "    condition = np.nonzero(boo[1:] != boo[:-1])[0] + 1\n",
    "    split_indices = np.split(indices, condition)\n",
    "    true_indices = split_indices[0::2] if boo[0] else split_indices[1::2]\n",
    "    event_indice_pair = [(idx[0]-event_length+1, idx[0]+1) for idx in true_indices]\n",
    "    return event_indice_pair"
   ]
  },
  {
   "cell_type": "markdown",
   "id": "c03bb4fc",
   "metadata": {},
   "source": [
    "## Validation of event search"
   ]
  },
  {
   "cell_type": "markdown",
   "id": "742610d0",
   "metadata": {},
   "source": [
    "- Take a look Group_Data_Analysis_PCA_2nd_Trial"
   ]
  },
  {
   "cell_type": "markdown",
   "id": "14226966",
   "metadata": {},
   "source": [
    "## Collecting Event Angles data"
   ]
  },
  {
   "cell_type": "code",
   "execution_count": 43,
   "id": "997688c5",
   "metadata": {
    "scrolled": true
   },
   "outputs": [
    {
     "data": {
      "text/html": [
       "<div>\n",
       "<style scoped>\n",
       "    .dataframe tbody tr th:only-of-type {\n",
       "        vertical-align: middle;\n",
       "    }\n",
       "\n",
       "    .dataframe tbody tr th {\n",
       "        vertical-align: top;\n",
       "    }\n",
       "\n",
       "    .dataframe thead th {\n",
       "        text-align: right;\n",
       "    }\n",
       "</style>\n",
       "<table border=\"1\" class=\"dataframe\">\n",
       "  <thead>\n",
       "    <tr style=\"text-align: right;\">\n",
       "      <th></th>\n",
       "      <th>nose</th>\n",
       "      <th>neck</th>\n",
       "      <th>anus</th>\n",
       "      <th>chest</th>\n",
       "      <th>rfoot</th>\n",
       "      <th>lfoot</th>\n",
       "      <th>rhand</th>\n",
       "      <th>lhand</th>\n",
       "      <th>tip</th>\n",
       "    </tr>\n",
       "  </thead>\n",
       "  <tbody>\n",
       "    <tr>\n",
       "      <th>nose</th>\n",
       "      <td>1.000000</td>\n",
       "      <td>0.316611</td>\n",
       "      <td>0.081438</td>\n",
       "      <td>0.273310</td>\n",
       "      <td>0.012240</td>\n",
       "      <td>0.012220</td>\n",
       "      <td>0.092299</td>\n",
       "      <td>0.100927</td>\n",
       "      <td>0.028821</td>\n",
       "    </tr>\n",
       "    <tr>\n",
       "      <th>neck</th>\n",
       "      <td>0.316611</td>\n",
       "      <td>1.000000</td>\n",
       "      <td>0.128718</td>\n",
       "      <td>0.500384</td>\n",
       "      <td>0.017859</td>\n",
       "      <td>0.028169</td>\n",
       "      <td>0.142443</td>\n",
       "      <td>0.129157</td>\n",
       "      <td>0.065936</td>\n",
       "    </tr>\n",
       "    <tr>\n",
       "      <th>anus</th>\n",
       "      <td>0.081438</td>\n",
       "      <td>0.128718</td>\n",
       "      <td>1.000000</td>\n",
       "      <td>0.379622</td>\n",
       "      <td>0.167817</td>\n",
       "      <td>0.166237</td>\n",
       "      <td>0.039976</td>\n",
       "      <td>0.050826</td>\n",
       "      <td>0.189316</td>\n",
       "    </tr>\n",
       "    <tr>\n",
       "      <th>chest</th>\n",
       "      <td>0.273310</td>\n",
       "      <td>0.500384</td>\n",
       "      <td>0.379622</td>\n",
       "      <td>1.000000</td>\n",
       "      <td>0.110924</td>\n",
       "      <td>0.155245</td>\n",
       "      <td>0.173859</td>\n",
       "      <td>0.167158</td>\n",
       "      <td>0.141590</td>\n",
       "    </tr>\n",
       "    <tr>\n",
       "      <th>rfoot</th>\n",
       "      <td>0.012240</td>\n",
       "      <td>0.017859</td>\n",
       "      <td>0.167817</td>\n",
       "      <td>0.110924</td>\n",
       "      <td>1.000000</td>\n",
       "      <td>-0.078868</td>\n",
       "      <td>-0.055974</td>\n",
       "      <td>-0.039212</td>\n",
       "      <td>0.066885</td>\n",
       "    </tr>\n",
       "    <tr>\n",
       "      <th>lfoot</th>\n",
       "      <td>0.012220</td>\n",
       "      <td>0.028169</td>\n",
       "      <td>0.166237</td>\n",
       "      <td>0.155245</td>\n",
       "      <td>-0.078868</td>\n",
       "      <td>1.000000</td>\n",
       "      <td>-0.030200</td>\n",
       "      <td>-0.065908</td>\n",
       "      <td>0.068825</td>\n",
       "    </tr>\n",
       "    <tr>\n",
       "      <th>rhand</th>\n",
       "      <td>0.092299</td>\n",
       "      <td>0.142443</td>\n",
       "      <td>0.039976</td>\n",
       "      <td>0.173859</td>\n",
       "      <td>-0.055974</td>\n",
       "      <td>-0.030200</td>\n",
       "      <td>1.000000</td>\n",
       "      <td>-0.000670</td>\n",
       "      <td>0.031034</td>\n",
       "    </tr>\n",
       "    <tr>\n",
       "      <th>lhand</th>\n",
       "      <td>0.100927</td>\n",
       "      <td>0.129157</td>\n",
       "      <td>0.050826</td>\n",
       "      <td>0.167158</td>\n",
       "      <td>-0.039212</td>\n",
       "      <td>-0.065908</td>\n",
       "      <td>-0.000670</td>\n",
       "      <td>1.000000</td>\n",
       "      <td>0.006369</td>\n",
       "    </tr>\n",
       "    <tr>\n",
       "      <th>tip</th>\n",
       "      <td>0.028821</td>\n",
       "      <td>0.065936</td>\n",
       "      <td>0.189316</td>\n",
       "      <td>0.141590</td>\n",
       "      <td>0.066885</td>\n",
       "      <td>0.068825</td>\n",
       "      <td>0.031034</td>\n",
       "      <td>0.006369</td>\n",
       "      <td>1.000000</td>\n",
       "    </tr>\n",
       "  </tbody>\n",
       "</table>\n",
       "</div>"
      ],
      "text/plain": [
       "           nose      neck      anus     chest     rfoot     lfoot     rhand  \\\n",
       "nose   1.000000  0.316611  0.081438  0.273310  0.012240  0.012220  0.092299   \n",
       "neck   0.316611  1.000000  0.128718  0.500384  0.017859  0.028169  0.142443   \n",
       "anus   0.081438  0.128718  1.000000  0.379622  0.167817  0.166237  0.039976   \n",
       "chest  0.273310  0.500384  0.379622  1.000000  0.110924  0.155245  0.173859   \n",
       "rfoot  0.012240  0.017859  0.167817  0.110924  1.000000 -0.078868 -0.055974   \n",
       "lfoot  0.012220  0.028169  0.166237  0.155245 -0.078868  1.000000 -0.030200   \n",
       "rhand  0.092299  0.142443  0.039976  0.173859 -0.055974 -0.030200  1.000000   \n",
       "lhand  0.100927  0.129157  0.050826  0.167158 -0.039212 -0.065908 -0.000670   \n",
       "tip    0.028821  0.065936  0.189316  0.141590  0.066885  0.068825  0.031034   \n",
       "\n",
       "          lhand       tip  \n",
       "nose   0.100927  0.028821  \n",
       "neck   0.129157  0.065936  \n",
       "anus   0.050826  0.189316  \n",
       "chest  0.167158  0.141590  \n",
       "rfoot -0.039212  0.066885  \n",
       "lfoot -0.065908  0.068825  \n",
       "rhand -0.000670  0.031034  \n",
       "lhand  1.000000  0.006369  \n",
       "tip    0.006369  1.000000  "
      ]
     },
     "execution_count": 43,
     "metadata": {},
     "output_type": "execute_result"
    }
   ],
   "source": [
    "ava = avatars['wt']['young'][0]\n",
    "corr = ava.acceleration.corr()\n",
    "corr"
   ]
  },
  {
   "cell_type": "code",
   "execution_count": 44,
   "id": "93801301",
   "metadata": {},
   "outputs": [
    {
     "data": {
      "text/plain": [
       "array([[False,  True,  True,  True,  True,  True,  True,  True,  True],\n",
       "       [False, False,  True,  True,  True,  True,  True,  True,  True],\n",
       "       [False, False, False,  True,  True,  True,  True,  True,  True],\n",
       "       [False, False, False, False,  True,  True,  True,  True,  True],\n",
       "       [False, False, False, False, False,  True,  True,  True,  True],\n",
       "       [False, False, False, False, False, False,  True,  True,  True],\n",
       "       [False, False, False, False, False, False, False,  True,  True],\n",
       "       [False, False, False, False, False, False, False, False,  True],\n",
       "       [False, False, False, False, False, False, False, False, False]])"
      ]
     },
     "execution_count": 44,
     "metadata": {},
     "output_type": "execute_result"
    }
   ],
   "source": [
    "mask = np.triu(np.ones_like(corr, dtype=bool), 1)\n",
    "mask"
   ]
  },
  {
   "cell_type": "code",
   "execution_count": 46,
   "id": "0c3abcef",
   "metadata": {
    "scrolled": true
   },
   "outputs": [
    {
     "data": {
      "text/plain": [
       "array([ 0.31661052,  0.08143777,  0.27331042,  0.01224002,  0.01222027,\n",
       "        0.09229906,  0.10092705,  0.02882057,  0.12871776,  0.50038358,\n",
       "        0.01785892,  0.0281691 ,  0.14244288,  0.12915664,  0.06593558,\n",
       "        0.3796219 ,  0.1678165 ,  0.1662365 ,  0.03997625,  0.05082624,\n",
       "        0.18931632,  0.1109244 ,  0.15524479,  0.17385908,  0.16715764,\n",
       "        0.14159038, -0.07886838, -0.0559737 , -0.03921248,  0.06688463,\n",
       "       -0.03019999, -0.06590788,  0.06882477, -0.00067026,  0.03103427,\n",
       "        0.00636926])"
      ]
     },
     "execution_count": 46,
     "metadata": {},
     "output_type": "execute_result"
    }
   ],
   "source": [
    "corr.values.flatten()[mask.flatten()]"
   ]
  },
  {
   "cell_type": "markdown",
   "id": "5c49be69",
   "metadata": {},
   "source": [
    "- Take a look Group_Data_Analysis_PCA_2nd_Trial"
   ]
  },
  {
   "cell_type": "code",
   "execution_count": 49,
   "id": "266d23df",
   "metadata": {
    "scrolled": false
   },
   "outputs": [],
   "source": [
    "wt_young_event_data = []\n",
    "for avatar in avatars['wt']['young']:\n",
    "    boo = (avatar.distance['anus'].rolling(20).sum()>5).values # boolean array\n",
    "    event_indices = get_event_indices(boo, 20)\n",
    "    for i, idx in enumerate(event_indices):\n",
    "        x = avatar.acceleration.loc[avatar.index[idx[0]:idx[1]]]\n",
    "        if x.shape[0]!=20:\n",
    "            continue\n",
    "        corr = x.corr()\n",
    "        mask = np.triu(np.ones_like(corr, dtype=bool), 1)\n",
    "        v = corr.values.flatten()[mask.flatten()]\n",
    "        wt_young_event_data.append(v)\n",
    "wt_young_event_data = np.stack(wt_young_event_data)"
   ]
  },
  {
   "cell_type": "code",
   "execution_count": 50,
   "id": "a475bc7f",
   "metadata": {
    "scrolled": false
   },
   "outputs": [],
   "source": [
    "wt_adult_event_data = []\n",
    "for avatar in avatars['wt']['adult']:\n",
    "    boo = (avatar.distance['anus'].rolling(20).sum()>5).values # boolean array\n",
    "    event_indices = get_event_indices(boo, 20)\n",
    "    event_data = []\n",
    "    for i, idx in enumerate(event_indices):\n",
    "        x = avatar.acceleration.loc[avatar.index[idx[0]:idx[1]]]\n",
    "        if x.shape[0]!=20:\n",
    "            continue\n",
    "        corr = x.corr()\n",
    "        mask = np.triu(np.ones_like(corr, dtype=bool), 1)\n",
    "        v = corr.values.flatten()[mask.flatten()]\n",
    "        wt_adult_event_data.append(v)\n",
    "wt_adult_event_data = np.stack(wt_adult_event_data)"
   ]
  },
  {
   "cell_type": "markdown",
   "id": "5654552f",
   "metadata": {},
   "source": [
    "total 1857 events acquired from 5 wt young mice with 5 session.  \n",
    "total 2248 events acquired from 5 wt adult mice with 5 session."
   ]
  },
  {
   "cell_type": "code",
   "execution_count": 51,
   "id": "4e540801",
   "metadata": {},
   "outputs": [],
   "source": [
    "X = np.concatenate([wt_young_event_data, wt_adult_event_data])\n",
    "X_ = StandardScaler().fit_transform(X)"
   ]
  },
  {
   "cell_type": "code",
   "execution_count": 52,
   "id": "ef357c10",
   "metadata": {},
   "outputs": [],
   "source": [
    "X_[np.isnan(X_)] = 0"
   ]
  },
  {
   "cell_type": "code",
   "execution_count": 53,
   "id": "bde87255",
   "metadata": {},
   "outputs": [],
   "source": [
    "pca = PCA(n_components=2)\n",
    "pc = pca.fit_transform(X_)"
   ]
  },
  {
   "cell_type": "code",
   "execution_count": 54,
   "id": "fa88ef76",
   "metadata": {},
   "outputs": [],
   "source": [
    "y = np.concatenate([np.zeros(wt_young_event_data.shape[0]), np.ones(wt_adult_event_data.shape[0])])"
   ]
  },
  {
   "cell_type": "code",
   "execution_count": 55,
   "id": "354107ef",
   "metadata": {},
   "outputs": [],
   "source": [
    "pc_y = np.c_[pc,y]\n",
    "df = pd.DataFrame(pc_y,columns=['PC1','PC2','genotype'])"
   ]
  },
  {
   "cell_type": "code",
   "execution_count": 57,
   "id": "5e7b1d50",
   "metadata": {
    "scrolled": true
   },
   "outputs": [
    {
     "data": {
      "text/plain": [
       "<AxesSubplot:xlabel='PC1', ylabel='PC2'>"
      ]
     },
     "execution_count": 57,
     "metadata": {},
     "output_type": "execute_result"
    },
    {
     "data": {
      "image/png": "[encoded data removed]",
      "text/plain": [
       "<Figure size 432x288 with 1 Axes>"
      ]
     },
     "metadata": {
      "needs_background": "light"
     },
     "output_type": "display_data"
    }
   ],
   "source": [
    "sns.scatterplot(data=df,x='PC1',y='PC2',hue='genotype', alpha=0.2)\n",
    "# plt.xlim(-30, 30)\n",
    "# plt.ylim(-30, 30)"
   ]
  },
  {
   "cell_type": "code",
   "execution_count": null,
   "id": "3767c3e9",
   "metadata": {},
   "outputs": [],
   "source": []
  }
 ],
 "metadata": {
  "kernelspec": {
   "display_name": "Python 3",
   "language": "python",
   "name": "python3"
  },
  "language_info": {
   "codemirror_mode": {
    "name": "ipython",
    "version": 3
   },
   "file_extension": ".py",
   "mimetype": "text/x-python",
   "name": "python",
   "nbconvert_exporter": "python",
   "pygments_lexer": "ipython3",
   "version": "3.6.13"
  }
 },
 "nbformat": 4,
 "nbformat_minor": 5
}
