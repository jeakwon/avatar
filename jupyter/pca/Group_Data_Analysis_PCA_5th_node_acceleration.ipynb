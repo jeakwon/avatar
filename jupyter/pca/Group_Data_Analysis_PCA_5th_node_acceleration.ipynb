{
 "cells": [
  {
   "cell_type": "markdown",
   "id": "845d54a5",
   "metadata": {},
   "source": [
    "# Group Data Analysis PCA 5th Trial - node acceleration\n",
    "* Version: '0.0.4'\n",
    "* Date: 2021-05-03\n",
    "* Author: Jea Kwon\n",
    "* Description: Previously PCA analysis with avatar coordinates, spine aligned on plane.  \n",
    "this time using spine aligned on axis"
   ]
  },
  {
   "cell_type": "code",
   "execution_count": 1,
   "id": "25d7bbb6",
   "metadata": {},
   "outputs": [
    {
     "data": {
      "text/html": [
       "        <script type=\"text/javascript\">\n",
       "        window.PlotlyConfig = {MathJaxConfig: 'local'};\n",
       "        if (window.MathJax) {MathJax.Hub.Config({SVG: {font: \"STIX-Web\"}});}\n",
       "        if (typeof require !== 'undefined') {\n",
       "        require.undef(\"plotly\");\n",
       "        requirejs.config({\n",
       "            paths: {\n",
       "                'plotly': ['https://cdn.plot.ly/plotly-latest.min']\n",
       "            }\n",
       "        });\n",
       "        require(['plotly'], function(Plotly) {\n",
       "            window._Plotly = Plotly;\n",
       "        });\n",
       "        }\n",
       "        </script>\n",
       "        "
      ]
     },
     "metadata": {},
     "output_type": "display_data"
    }
   ],
   "source": [
    "from avatarpy import Avatar\n",
    "import os\n",
    "import glob\n",
    "import numpy as np\n",
    "import pandas as pd\n",
    "import seaborn as sns\n",
    "import matplotlib.pyplot as plt\n",
    "import cufflinks as cf\n",
    "from scipy.stats import zscore\n",
    "from sklearn.preprocessing import StandardScaler\n",
    "from sklearn.decomposition import PCA\n",
    "cf.go_offline(connected=True)"
   ]
  },
  {
   "cell_type": "code",
   "execution_count": 2,
   "id": "16c894f5",
   "metadata": {},
   "outputs": [],
   "source": [
    "root = r\"C:\\Users\\Jay\\Desktop\\avatar_young_adult\\data\\best1_20210503\""
   ]
  },
  {
   "cell_type": "code",
   "execution_count": 3,
   "id": "6829d38e",
   "metadata": {
    "scrolled": false
   },
   "outputs": [],
   "source": [
    "avatars = dict(\n",
    "    wt=dict(\n",
    "        young=[],\n",
    "        adult=[],\n",
    "    ),\n",
    "    ko=dict(\n",
    "        young=[],\n",
    "        adult=[],\n",
    "    )\n",
    ")\n",
    "for path, subdirs, files in os.walk(root):\n",
    "    for name in files:\n",
    "        if name.lower().endswith('.csv'):\n",
    "            csv_path = os.path.join(path, name)\n",
    "            age = os.path.basename(os.path.dirname(path))\n",
    "            genotype = os.path.basename(os.path.dirname(os.path.dirname(path)))\n",
    "            \n",
    "            avatars[genotype][age].append(Avatar(csv_path=csv_path, ID=name))"
   ]
  },
  {
   "cell_type": "markdown",
   "id": "74823e15",
   "metadata": {},
   "source": [
    "## Create walking event data\n",
    "### Definition of walking\n",
    "- Moved more than 5 cm in 1 second(20=Frame)\n",
    "- More details take a look Group_Data_Analysis_PCA_1st_Trial"
   ]
  },
  {
   "cell_type": "markdown",
   "id": "d00c7ff0",
   "metadata": {},
   "source": [
    "## Event Search function"
   ]
  },
  {
   "cell_type": "code",
   "execution_count": 4,
   "id": "2b7e9357",
   "metadata": {},
   "outputs": [],
   "source": [
    "def get_event_indices(boo, event_length):\n",
    "    \"\"\"Returns list of event indices.\n",
    "    \n",
    "    ex) [(start 1, end 1), (start 2, end 2), (start 3, end 3), ..., (start N, end N)]\n",
    "    \"\"\"\n",
    "    indices = np.arange(len(boo))\n",
    "    condition = np.nonzero(boo[1:] != boo[:-1])[0] + 1\n",
    "    split_indices = np.split(indices, condition)\n",
    "    true_indices = split_indices[0::2] if boo[0] else split_indices[1::2]\n",
    "    event_indice_pair = [(idx[0]-event_length+1, idx[0]+1) for idx in true_indices]\n",
    "    return event_indice_pair"
   ]
  },
  {
   "cell_type": "markdown",
   "id": "c03bb4fc",
   "metadata": {},
   "source": [
    "## Validation of event search"
   ]
  },
  {
   "cell_type": "markdown",
   "id": "742610d0",
   "metadata": {},
   "source": [
    "- Take a look Group_Data_Analysis_PCA_2nd_Trial"
   ]
  },
  {
   "cell_type": "markdown",
   "id": "14226966",
   "metadata": {},
   "source": [
    "## Collecting Event Acceleration data"
   ]
  },
  {
   "cell_type": "code",
   "execution_count": 5,
   "id": "0c3abcef",
   "metadata": {
    "scrolled": false
   },
   "outputs": [
    {
     "data": {
      "text/html": [
       "<div>\n",
       "<style scoped>\n",
       "    .dataframe tbody tr th:only-of-type {\n",
       "        vertical-align: middle;\n",
       "    }\n",
       "\n",
       "    .dataframe tbody tr th {\n",
       "        vertical-align: top;\n",
       "    }\n",
       "\n",
       "    .dataframe thead th {\n",
       "        text-align: right;\n",
       "    }\n",
       "</style>\n",
       "<table border=\"1\" class=\"dataframe\">\n",
       "  <thead>\n",
       "    <tr style=\"text-align: right;\">\n",
       "      <th></th>\n",
       "      <th>nose</th>\n",
       "      <th>neck</th>\n",
       "      <th>anus</th>\n",
       "      <th>chest</th>\n",
       "      <th>rfoot</th>\n",
       "      <th>lfoot</th>\n",
       "      <th>rhand</th>\n",
       "      <th>lhand</th>\n",
       "      <th>tip</th>\n",
       "    </tr>\n",
       "  </thead>\n",
       "  <tbody>\n",
       "    <tr>\n",
       "      <th>0.00</th>\n",
       "      <td>NaN</td>\n",
       "      <td>NaN</td>\n",
       "      <td>NaN</td>\n",
       "      <td>NaN</td>\n",
       "      <td>NaN</td>\n",
       "      <td>NaN</td>\n",
       "      <td>NaN</td>\n",
       "      <td>NaN</td>\n",
       "      <td>NaN</td>\n",
       "    </tr>\n",
       "    <tr>\n",
       "      <th>0.05</th>\n",
       "      <td>NaN</td>\n",
       "      <td>NaN</td>\n",
       "      <td>NaN</td>\n",
       "      <td>NaN</td>\n",
       "      <td>NaN</td>\n",
       "      <td>NaN</td>\n",
       "      <td>NaN</td>\n",
       "      <td>NaN</td>\n",
       "      <td>NaN</td>\n",
       "    </tr>\n",
       "    <tr>\n",
       "      <th>0.10</th>\n",
       "      <td>-2.525262e+02</td>\n",
       "      <td>4.547384e-02</td>\n",
       "      <td>3.579911e-02</td>\n",
       "      <td>-0.055041</td>\n",
       "      <td>4.440892e-14</td>\n",
       "      <td>4.000000e-03</td>\n",
       "      <td>-0.039526</td>\n",
       "      <td>3.498361e-02</td>\n",
       "      <td>0.039094</td>\n",
       "    </tr>\n",
       "    <tr>\n",
       "      <th>0.15</th>\n",
       "      <td>-5.778769e+02</td>\n",
       "      <td>-1.956523e+01</td>\n",
       "      <td>-8.754281e-01</td>\n",
       "      <td>-20.087564</td>\n",
       "      <td>-8.312000e+00</td>\n",
       "      <td>2.379843e+00</td>\n",
       "      <td>103.265024</td>\n",
       "      <td>8.052848e+01</td>\n",
       "      <td>-32.493711</td>\n",
       "    </tr>\n",
       "    <tr>\n",
       "      <th>0.20</th>\n",
       "      <td>1.194904e-02</td>\n",
       "      <td>-4.632606e-03</td>\n",
       "      <td>-1.094653e-02</td>\n",
       "      <td>-0.048851</td>\n",
       "      <td>4.000000e-03</td>\n",
       "      <td>-3.727045e-02</td>\n",
       "      <td>0.000000</td>\n",
       "      <td>-1.938841e-03</td>\n",
       "      <td>0.050926</td>\n",
       "    </tr>\n",
       "    <tr>\n",
       "      <th>...</th>\n",
       "      <td>...</td>\n",
       "      <td>...</td>\n",
       "      <td>...</td>\n",
       "      <td>...</td>\n",
       "      <td>...</td>\n",
       "      <td>...</td>\n",
       "      <td>...</td>\n",
       "      <td>...</td>\n",
       "      <td>...</td>\n",
       "    </tr>\n",
       "    <tr>\n",
       "      <th>600.60</th>\n",
       "      <td>-2.186185e+00</td>\n",
       "      <td>-1.992497e-01</td>\n",
       "      <td>-1.920567e+00</td>\n",
       "      <td>-2.548849</td>\n",
       "      <td>-5.600000e-02</td>\n",
       "      <td>-2.554523e+00</td>\n",
       "      <td>122.590499</td>\n",
       "      <td>2.568042e+01</td>\n",
       "      <td>-0.177711</td>\n",
       "    </tr>\n",
       "    <tr>\n",
       "      <th>600.65</th>\n",
       "      <td>-2.220446e-13</td>\n",
       "      <td>-4.091770e-02</td>\n",
       "      <td>1.040834e-15</td>\n",
       "      <td>0.005281</td>\n",
       "      <td>-2.391533e-14</td>\n",
       "      <td>4.019800e-02</td>\n",
       "      <td>0.876021</td>\n",
       "      <td>3.230949e-02</td>\n",
       "      <td>0.037136</td>\n",
       "    </tr>\n",
       "    <tr>\n",
       "      <th>600.70</th>\n",
       "      <td>6.841316e+00</td>\n",
       "      <td>-5.479167e+00</td>\n",
       "      <td>3.505228e+00</td>\n",
       "      <td>6.680804</td>\n",
       "      <td>1.080000e-01</td>\n",
       "      <td>-3.337675e+00</td>\n",
       "      <td>-124.504279</td>\n",
       "      <td>-2.638989e+01</td>\n",
       "      <td>-0.278596</td>\n",
       "    </tr>\n",
       "    <tr>\n",
       "      <th>600.75</th>\n",
       "      <td>-5.646492e-03</td>\n",
       "      <td>8.881784e-14</td>\n",
       "      <td>-5.569522e-02</td>\n",
       "      <td>0.045443</td>\n",
       "      <td>-4.437423e-14</td>\n",
       "      <td>-5.336009e-14</td>\n",
       "      <td>2.188403</td>\n",
       "      <td>9.936496e-14</td>\n",
       "      <td>0.024750</td>\n",
       "    </tr>\n",
       "    <tr>\n",
       "      <th>600.80</th>\n",
       "      <td>2.817459e+01</td>\n",
       "      <td>7.627726e+00</td>\n",
       "      <td>-2.089930e+00</td>\n",
       "      <td>-6.404365</td>\n",
       "      <td>-1.160000e-01</td>\n",
       "      <td>-2.200000e-01</td>\n",
       "      <td>408.923697</td>\n",
       "      <td>1.734938e+00</td>\n",
       "      <td>-0.024750</td>\n",
       "    </tr>\n",
       "  </tbody>\n",
       "</table>\n",
       "<p>12017 rows × 9 columns</p>\n",
       "</div>"
      ],
      "text/plain": [
       "                nose          neck          anus      chest         rfoot  \\\n",
       "0.00             NaN           NaN           NaN        NaN           NaN   \n",
       "0.05             NaN           NaN           NaN        NaN           NaN   \n",
       "0.10   -2.525262e+02  4.547384e-02  3.579911e-02  -0.055041  4.440892e-14   \n",
       "0.15   -5.778769e+02 -1.956523e+01 -8.754281e-01 -20.087564 -8.312000e+00   \n",
       "0.20    1.194904e-02 -4.632606e-03 -1.094653e-02  -0.048851  4.000000e-03   \n",
       "...              ...           ...           ...        ...           ...   \n",
       "600.60 -2.186185e+00 -1.992497e-01 -1.920567e+00  -2.548849 -5.600000e-02   \n",
       "600.65 -2.220446e-13 -4.091770e-02  1.040834e-15   0.005281 -2.391533e-14   \n",
       "600.70  6.841316e+00 -5.479167e+00  3.505228e+00   6.680804  1.080000e-01   \n",
       "600.75 -5.646492e-03  8.881784e-14 -5.569522e-02   0.045443 -4.437423e-14   \n",
       "600.80  2.817459e+01  7.627726e+00 -2.089930e+00  -6.404365 -1.160000e-01   \n",
       "\n",
       "               lfoot       rhand         lhand        tip  \n",
       "0.00             NaN         NaN           NaN        NaN  \n",
       "0.05             NaN         NaN           NaN        NaN  \n",
       "0.10    4.000000e-03   -0.039526  3.498361e-02   0.039094  \n",
       "0.15    2.379843e+00  103.265024  8.052848e+01 -32.493711  \n",
       "0.20   -3.727045e-02    0.000000 -1.938841e-03   0.050926  \n",
       "...              ...         ...           ...        ...  \n",
       "600.60 -2.554523e+00  122.590499  2.568042e+01  -0.177711  \n",
       "600.65  4.019800e-02    0.876021  3.230949e-02   0.037136  \n",
       "600.70 -3.337675e+00 -124.504279 -2.638989e+01  -0.278596  \n",
       "600.75 -5.336009e-14    2.188403  9.936496e-14   0.024750  \n",
       "600.80 -2.200000e-01  408.923697  1.734938e+00  -0.024750  \n",
       "\n",
       "[12017 rows x 9 columns]"
      ]
     },
     "execution_count": 5,
     "metadata": {},
     "output_type": "execute_result"
    }
   ],
   "source": [
    "ava = avatars['wt']['young'][0]\n",
    "ava.acceleration"
   ]
  },
  {
   "cell_type": "markdown",
   "id": "5c49be69",
   "metadata": {},
   "source": [
    "- Take a look Group_Data_Analysis_PCA_2nd_Trial"
   ]
  },
  {
   "cell_type": "code",
   "execution_count": 14,
   "id": "266d23df",
   "metadata": {
    "scrolled": false
   },
   "outputs": [],
   "source": [
    "wt_young_event_data = []\n",
    "for avatar in avatars['wt']['young']:\n",
    "    boo = (avatar.distance['anus'].rolling(20).sum()>5).values # boolean array\n",
    "    event_indices = get_event_indices(boo, 20)\n",
    "    for i, idx in enumerate(event_indices):\n",
    "        x = avatar.acceleration.loc[avatar.index[idx[0]:idx[1]]]\n",
    "        if x.shape[0]!=20:\n",
    "            continue\n",
    "        wt_young_event_data.append(x.values.flatten())\n",
    "wt_young_event_data = np.stack(wt_young_event_data)"
   ]
  },
  {
   "cell_type": "code",
   "execution_count": 15,
   "id": "a475bc7f",
   "metadata": {
    "scrolled": false
   },
   "outputs": [],
   "source": [
    "wt_adult_event_data = []\n",
    "for avatar in avatars['wt']['adult']:\n",
    "    boo = (avatar.distance['anus'].rolling(20).sum()>5).values # boolean array\n",
    "    event_indices = get_event_indices(boo, 20)\n",
    "    event_data = []\n",
    "    for i, idx in enumerate(event_indices):\n",
    "        x = avatar.acceleration.loc[avatar.index[idx[0]:idx[1]]]\n",
    "        if x.shape[0]!=20:\n",
    "            continue\n",
    "        wt_adult_event_data.append(x.values.flatten())\n",
    "wt_adult_event_data = np.stack(wt_adult_event_data)"
   ]
  },
  {
   "cell_type": "markdown",
   "id": "5654552f",
   "metadata": {},
   "source": [
    "total 1857 events acquired from 5 wt young mice with 5 session.  \n",
    "total 2248 events acquired from 5 wt adult mice with 5 session."
   ]
  },
  {
   "cell_type": "code",
   "execution_count": 16,
   "id": "4e540801",
   "metadata": {},
   "outputs": [],
   "source": [
    "X = np.concatenate([wt_young_event_data, wt_adult_event_data])\n",
    "X_ = StandardScaler().fit_transform(X)"
   ]
  },
  {
   "cell_type": "code",
   "execution_count": 21,
   "id": "ef357c10",
   "metadata": {},
   "outputs": [],
   "source": [
    "X_[np.isnan(X_)] = 0"
   ]
  },
  {
   "cell_type": "code",
   "execution_count": 22,
   "id": "bde87255",
   "metadata": {},
   "outputs": [],
   "source": [
    "pca = PCA(n_components=2)\n",
    "pc = pca.fit_transform(X_)"
   ]
  },
  {
   "cell_type": "code",
   "execution_count": 23,
   "id": "fa88ef76",
   "metadata": {},
   "outputs": [],
   "source": [
    "y = np.concatenate([np.zeros(wt_young_event_data.shape[0]), np.ones(wt_adult_event_data.shape[0])])"
   ]
  },
  {
   "cell_type": "code",
   "execution_count": 24,
   "id": "354107ef",
   "metadata": {},
   "outputs": [],
   "source": [
    "pc_y = np.c_[pc,y]\n",
    "df = pd.DataFrame(pc_y,columns=['PC1','PC2','genotype'])"
   ]
  },
  {
   "cell_type": "code",
   "execution_count": 25,
   "id": "5e7b1d50",
   "metadata": {},
   "outputs": [
    {
     "data": {
      "text/plain": [
       "<AxesSubplot:xlabel='PC1', ylabel='PC2'>"
      ]
     },
     "execution_count": 25,
     "metadata": {},
     "output_type": "execute_result"
    },
    {
     "data": {
      "image/png": "[encoded data removed]",
      "text/plain": [
       "<Figure size 432x288 with 1 Axes>"
      ]
     },
     "metadata": {
      "needs_background": "light"
     },
     "output_type": "display_data"
    }
   ],
   "source": [
    "sns.scatterplot(data=df,x='PC1',y='PC2',hue='genotype', alpha=0.2)\n",
    "# plt.xlim(-10, 10)\n",
    "# plt.ylim(-10, 10)"
   ]
  },
  {
   "cell_type": "code",
   "execution_count": null,
   "id": "a273c9ab",
   "metadata": {},
   "outputs": [],
   "source": []
  }
 ],
 "metadata": {
  "kernelspec": {
   "display_name": "Python 3",
   "language": "python",
   "name": "python3"
  },
  "language_info": {
   "codemirror_mode": {
    "name": "ipython",
    "version": 3
   },
   "file_extension": ".py",
   "mimetype": "text/x-python",
   "name": "python",
   "nbconvert_exporter": "python",
   "pygments_lexer": "ipython3",
   "version": "3.6.13"
  }
 },
 "nbformat": 4,
 "nbformat_minor": 5
}
