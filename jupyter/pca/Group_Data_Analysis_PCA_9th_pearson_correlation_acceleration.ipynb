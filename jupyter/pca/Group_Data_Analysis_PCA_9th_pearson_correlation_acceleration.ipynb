{
 "cells": [
  {
   "cell_type": "markdown",
   "id": "845d54a5",
   "metadata": {},
   "source": [
    "# Group Data Analysis PCA 9th Trial - Pearson_correlation\n",
    "* Version: '0.0.4'\n",
    "* Date: 2021-05-03\n",
    "* Author: Jea Kwon\n",
    "* Description: PCA analysis with "
   ]
  },
  {
   "cell_type": "code",
   "execution_count": 1,
   "id": "25d7bbb6",
   "metadata": {},
   "outputs": [
    {
     "data": {
      "text/html": [
       "        <script type=\"text/javascript\">\n",
       "        window.PlotlyConfig = {MathJaxConfig: 'local'};\n",
       "        if (window.MathJax) {MathJax.Hub.Config({SVG: {font: \"STIX-Web\"}});}\n",
       "        if (typeof require !== 'undefined') {\n",
       "        require.undef(\"plotly\");\n",
       "        requirejs.config({\n",
       "            paths: {\n",
       "                'plotly': ['https://cdn.plot.ly/plotly-latest.min']\n",
       "            }\n",
       "        });\n",
       "        require(['plotly'], function(Plotly) {\n",
       "            window._Plotly = Plotly;\n",
       "        });\n",
       "        }\n",
       "        </script>\n",
       "        "
      ]
     },
     "metadata": {},
     "output_type": "display_data"
    }
   ],
   "source": [
    "from avatarpy import Avatar\n",
    "import os\n",
    "import glob\n",
    "import numpy as np\n",
    "import pandas as pd\n",
    "import seaborn as sns\n",
    "import matplotlib.pyplot as plt\n",
    "import cufflinks as cf\n",
    "from scipy.stats import zscore\n",
    "from sklearn.preprocessing import StandardScaler\n",
    "from sklearn.decomposition import PCA\n",
    "cf.go_offline(connected=True)"
   ]
  },
  {
   "cell_type": "code",
   "execution_count": 2,
   "id": "16c894f5",
   "metadata": {},
   "outputs": [],
   "source": [
    "root = r\"C:\\Users\\Jay\\Desktop\\avatar_young_adult\\data\\best1_20210503\""
   ]
  },
  {
   "cell_type": "code",
   "execution_count": 3,
   "id": "6829d38e",
   "metadata": {
    "scrolled": false
   },
   "outputs": [],
   "source": [
    "avatars = dict(\n",
    "    wt=dict(\n",
    "        young=[],\n",
    "        adult=[],\n",
    "    ),\n",
    "    ko=dict(\n",
    "        young=[],\n",
    "        adult=[],\n",
    "    )\n",
    ")\n",
    "for path, subdirs, files in os.walk(root):\n",
    "    for name in files:\n",
    "        if name.lower().endswith('.csv'):\n",
    "            csv_path = os.path.join(path, name)\n",
    "            age = os.path.basename(os.path.dirname(path))\n",
    "            genotype = os.path.basename(os.path.dirname(os.path.dirname(path)))\n",
    "            \n",
    "            avatars[genotype][age].append(Avatar(csv_path=csv_path, ID=name))"
   ]
  },
  {
   "cell_type": "markdown",
   "id": "74823e15",
   "metadata": {},
   "source": [
    "## Create walking event data\n",
    "### Definition of walking\n",
    "- Moved more than 5 cm in 1 second(20=Frame)\n",
    "- More details take a look Group_Data_Analysis_PCA_1st_Trial"
   ]
  },
  {
   "cell_type": "markdown",
   "id": "d00c7ff0",
   "metadata": {},
   "source": [
    "## Event Search function"
   ]
  },
  {
   "cell_type": "code",
   "execution_count": 4,
   "id": "2b7e9357",
   "metadata": {},
   "outputs": [],
   "source": [
    "def get_event_indices(boo, event_length):\n",
    "    \"\"\"Returns list of event indices.\n",
    "    \n",
    "    ex) [(start 1, end 1), (start 2, end 2), (start 3, end 3), ..., (start N, end N)]\n",
    "    \"\"\"\n",
    "    indices = np.arange(len(boo))\n",
    "    condition = np.nonzero(boo[1:] != boo[:-1])[0] + 1\n",
    "    split_indices = np.split(indices, condition)\n",
    "    true_indices = split_indices[0::2] if boo[0] else split_indices[1::2]\n",
    "    event_indice_pair = [(idx[0]-event_length+1, idx[0]+1) for idx in true_indices]\n",
    "    return event_indice_pair"
   ]
  },
  {
   "cell_type": "markdown",
   "id": "c03bb4fc",
   "metadata": {},
   "source": [
    "## Validation of event search"
   ]
  },
  {
   "cell_type": "markdown",
   "id": "742610d0",
   "metadata": {},
   "source": [
    "- Take a look Group_Data_Analysis_PCA_2nd_Trial"
   ]
  },
  {
   "cell_type": "markdown",
   "id": "14226966",
   "metadata": {},
   "source": [
    "## Collecting Event Angles data"
   ]
  },
  {
   "cell_type": "code",
   "execution_count": 6,
   "id": "997688c5",
   "metadata": {
    "scrolled": true
   },
   "outputs": [
    {
     "data": {
      "text/html": [
       "<div>\n",
       "<style scoped>\n",
       "    .dataframe tbody tr th:only-of-type {\n",
       "        vertical-align: middle;\n",
       "    }\n",
       "\n",
       "    .dataframe tbody tr th {\n",
       "        vertical-align: top;\n",
       "    }\n",
       "\n",
       "    .dataframe thead th {\n",
       "        text-align: right;\n",
       "    }\n",
       "</style>\n",
       "<table border=\"1\" class=\"dataframe\">\n",
       "  <thead>\n",
       "    <tr style=\"text-align: right;\">\n",
       "      <th></th>\n",
       "      <th>head</th>\n",
       "      <th>body</th>\n",
       "      <th>tail</th>\n",
       "      <th>larm</th>\n",
       "      <th>rarm</th>\n",
       "      <th>lleg</th>\n",
       "      <th>rleg</th>\n",
       "    </tr>\n",
       "  </thead>\n",
       "  <tbody>\n",
       "    <tr>\n",
       "      <th>head</th>\n",
       "      <td>1.000000</td>\n",
       "      <td>0.064977</td>\n",
       "      <td>0.013073</td>\n",
       "      <td>0.039203</td>\n",
       "      <td>0.080840</td>\n",
       "      <td>0.017838</td>\n",
       "      <td>0.017731</td>\n",
       "    </tr>\n",
       "    <tr>\n",
       "      <th>body</th>\n",
       "      <td>0.064977</td>\n",
       "      <td>1.000000</td>\n",
       "      <td>0.145834</td>\n",
       "      <td>0.057864</td>\n",
       "      <td>0.059716</td>\n",
       "      <td>-0.042138</td>\n",
       "      <td>-0.069598</td>\n",
       "    </tr>\n",
       "    <tr>\n",
       "      <th>tail</th>\n",
       "      <td>0.013073</td>\n",
       "      <td>0.145834</td>\n",
       "      <td>1.000000</td>\n",
       "      <td>0.008735</td>\n",
       "      <td>-0.001486</td>\n",
       "      <td>-0.095606</td>\n",
       "      <td>-0.043784</td>\n",
       "    </tr>\n",
       "    <tr>\n",
       "      <th>larm</th>\n",
       "      <td>0.039203</td>\n",
       "      <td>0.057864</td>\n",
       "      <td>0.008735</td>\n",
       "      <td>1.000000</td>\n",
       "      <td>-0.037088</td>\n",
       "      <td>-0.014431</td>\n",
       "      <td>0.025595</td>\n",
       "    </tr>\n",
       "    <tr>\n",
       "      <th>rarm</th>\n",
       "      <td>0.080840</td>\n",
       "      <td>0.059716</td>\n",
       "      <td>-0.001486</td>\n",
       "      <td>-0.037088</td>\n",
       "      <td>1.000000</td>\n",
       "      <td>0.036884</td>\n",
       "      <td>-0.070721</td>\n",
       "    </tr>\n",
       "    <tr>\n",
       "      <th>lleg</th>\n",
       "      <td>0.017838</td>\n",
       "      <td>-0.042138</td>\n",
       "      <td>-0.095606</td>\n",
       "      <td>-0.014431</td>\n",
       "      <td>0.036884</td>\n",
       "      <td>1.000000</td>\n",
       "      <td>-0.067648</td>\n",
       "    </tr>\n",
       "    <tr>\n",
       "      <th>rleg</th>\n",
       "      <td>0.017731</td>\n",
       "      <td>-0.069598</td>\n",
       "      <td>-0.043784</td>\n",
       "      <td>0.025595</td>\n",
       "      <td>-0.070721</td>\n",
       "      <td>-0.067648</td>\n",
       "      <td>1.000000</td>\n",
       "    </tr>\n",
       "  </tbody>\n",
       "</table>\n",
       "</div>"
      ],
      "text/plain": [
       "          head      body      tail      larm      rarm      lleg      rleg\n",
       "head  1.000000  0.064977  0.013073  0.039203  0.080840  0.017838  0.017731\n",
       "body  0.064977  1.000000  0.145834  0.057864  0.059716 -0.042138 -0.069598\n",
       "tail  0.013073  0.145834  1.000000  0.008735 -0.001486 -0.095606 -0.043784\n",
       "larm  0.039203  0.057864  0.008735  1.000000 -0.037088 -0.014431  0.025595\n",
       "rarm  0.080840  0.059716 -0.001486 -0.037088  1.000000  0.036884 -0.070721\n",
       "lleg  0.017838 -0.042138 -0.095606 -0.014431  0.036884  1.000000 -0.067648\n",
       "rleg  0.017731 -0.069598 -0.043784  0.025595 -0.070721 -0.067648  1.000000"
      ]
     },
     "execution_count": 6,
     "metadata": {},
     "output_type": "execute_result"
    }
   ],
   "source": [
    "ava = avatars['wt']['young'][0]\n",
    "corr = ava.angle.diff().corr()\n",
    "corr"
   ]
  },
  {
   "cell_type": "code",
   "execution_count": 7,
   "id": "93801301",
   "metadata": {},
   "outputs": [
    {
     "data": {
      "text/plain": [
       "array([[False,  True,  True,  True,  True,  True,  True],\n",
       "       [False, False,  True,  True,  True,  True,  True],\n",
       "       [False, False, False,  True,  True,  True,  True],\n",
       "       [False, False, False, False,  True,  True,  True],\n",
       "       [False, False, False, False, False,  True,  True],\n",
       "       [False, False, False, False, False, False,  True],\n",
       "       [False, False, False, False, False, False, False]])"
      ]
     },
     "execution_count": 7,
     "metadata": {},
     "output_type": "execute_result"
    }
   ],
   "source": [
    "mask = np.triu(np.ones_like(corr, dtype=bool), 1)\n",
    "mask"
   ]
  },
  {
   "cell_type": "code",
   "execution_count": 8,
   "id": "0c3abcef",
   "metadata": {
    "scrolled": true
   },
   "outputs": [
    {
     "data": {
      "text/plain": [
       "array([ 0.0649768 ,  0.01307276,  0.03920344,  0.08083965,  0.01783837,\n",
       "        0.01773112,  0.14583427,  0.05786404,  0.05971572, -0.04213769,\n",
       "       -0.06959848,  0.00873525, -0.00148614, -0.09560637, -0.04378378,\n",
       "       -0.03708811, -0.01443122,  0.02559483,  0.03688364, -0.07072087,\n",
       "       -0.06764778])"
      ]
     },
     "execution_count": 8,
     "metadata": {},
     "output_type": "execute_result"
    }
   ],
   "source": [
    "corr.values.flatten()[mask.flatten()]"
   ]
  },
  {
   "cell_type": "markdown",
   "id": "5c49be69",
   "metadata": {},
   "source": [
    "- Take a look Group_Data_Analysis_PCA_2nd_Trial"
   ]
  },
  {
   "cell_type": "code",
   "execution_count": 9,
   "id": "266d23df",
   "metadata": {
    "scrolled": false
   },
   "outputs": [
    {
     "name": "stderr",
     "output_type": "stream",
     "text": [
      "c:\\users\\jay\\anaconda3\\envs\\avatar\\lib\\site-packages\\avatarpy\\core.py:22: RuntimeWarning:\n",
      "\n",
      "invalid value encountered in true_divide\n",
      "\n"
     ]
    }
   ],
   "source": [
    "wt_young_event_data = []\n",
    "for avatar in avatars['wt']['young']:\n",
    "    boo = (avatar.distance['anus'].rolling(20).sum()>5).values # boolean array\n",
    "    event_indices = get_event_indices(boo, 20)\n",
    "    for i, idx in enumerate(event_indices):\n",
    "        x = avatar.angle.diff().loc[avatar.index[idx[0]:idx[1]]]\n",
    "        if x.shape[0]!=20:\n",
    "            continue\n",
    "        corr = x.corr()\n",
    "        mask = np.triu(np.ones_like(corr, dtype=bool), 1)\n",
    "        v = corr.values.flatten()[mask.flatten()]\n",
    "        wt_young_event_data.append(v)\n",
    "wt_young_event_data = np.stack(wt_young_event_data)"
   ]
  },
  {
   "cell_type": "code",
   "execution_count": 10,
   "id": "a475bc7f",
   "metadata": {
    "scrolled": false
   },
   "outputs": [
    {
     "name": "stderr",
     "output_type": "stream",
     "text": [
      "c:\\users\\jay\\anaconda3\\envs\\avatar\\lib\\site-packages\\avatarpy\\core.py:22: RuntimeWarning:\n",
      "\n",
      "invalid value encountered in true_divide\n",
      "\n"
     ]
    }
   ],
   "source": [
    "wt_adult_event_data = []\n",
    "for avatar in avatars['wt']['adult']:\n",
    "    boo = (avatar.distance['anus'].rolling(20).sum()>5).values # boolean array\n",
    "    event_indices = get_event_indices(boo, 20)\n",
    "    event_data = []\n",
    "    for i, idx in enumerate(event_indices):\n",
    "        x = avatar.angle.diff().loc[avatar.index[idx[0]:idx[1]]]\n",
    "        if x.shape[0]!=20:\n",
    "            continue\n",
    "        corr = x.corr()\n",
    "        mask = np.triu(np.ones_like(corr, dtype=bool), 1)\n",
    "        v = corr.values.flatten()[mask.flatten()]\n",
    "        wt_adult_event_data.append(v)\n",
    "wt_adult_event_data = np.stack(wt_adult_event_data)"
   ]
  },
  {
   "cell_type": "markdown",
   "id": "5654552f",
   "metadata": {},
   "source": [
    "total 1857 events acquired from 5 wt young mice with 5 session.  \n",
    "total 2248 events acquired from 5 wt adult mice with 5 session."
   ]
  },
  {
   "cell_type": "code",
   "execution_count": 11,
   "id": "4e540801",
   "metadata": {},
   "outputs": [],
   "source": [
    "X = np.concatenate([wt_young_event_data, wt_adult_event_data])\n",
    "X_ = StandardScaler().fit_transform(X)"
   ]
  },
  {
   "cell_type": "code",
   "execution_count": 12,
   "id": "ef357c10",
   "metadata": {},
   "outputs": [],
   "source": [
    "X_[np.isnan(X_)] = 0"
   ]
  },
  {
   "cell_type": "code",
   "execution_count": 13,
   "id": "bde87255",
   "metadata": {},
   "outputs": [],
   "source": [
    "pca = PCA(n_components=2)\n",
    "pc = pca.fit_transform(X_)"
   ]
  },
  {
   "cell_type": "code",
   "execution_count": 14,
   "id": "fa88ef76",
   "metadata": {},
   "outputs": [],
   "source": [
    "y = np.concatenate([np.zeros(wt_young_event_data.shape[0]), np.ones(wt_adult_event_data.shape[0])])"
   ]
  },
  {
   "cell_type": "code",
   "execution_count": 15,
   "id": "354107ef",
   "metadata": {},
   "outputs": [],
   "source": [
    "pc_y = np.c_[pc,y]\n",
    "df = pd.DataFrame(pc_y,columns=['PC1','PC2','genotype'])"
   ]
  },
  {
   "cell_type": "code",
   "execution_count": 16,
   "id": "5e7b1d50",
   "metadata": {
    "scrolled": true
   },
   "outputs": [
    {
     "data": {
      "text/plain": [
       "<AxesSubplot:xlabel='PC1', ylabel='PC2'>"
      ]
     },
     "execution_count": 16,
     "metadata": {},
     "output_type": "execute_result"
    },
    {
     "data": {
      "image/png": "[encoded data removed]",
      "text/plain": [
       "<Figure size 432x288 with 1 Axes>"
      ]
     },
     "metadata": {
      "needs_background": "light"
     },
     "output_type": "display_data"
    }
   ],
   "source": [
    "sns.scatterplot(data=df,x='PC1',y='PC2',hue='genotype', alpha=0.2)\n",
    "# plt.xlim(-30, 30)\n",
    "# plt.ylim(-30, 30)"
   ]
  },
  {
   "cell_type": "code",
   "execution_count": null,
   "id": "3767c3e9",
   "metadata": {},
   "outputs": [],
   "source": []
  }
 ],
 "metadata": {
  "kernelspec": {
   "display_name": "Python 3",
   "language": "python",
   "name": "python3"
  },
  "language_info": {
   "codemirror_mode": {
    "name": "ipython",
    "version": 3
   },
   "file_extension": ".py",
   "mimetype": "text/x-python",
   "name": "python",
   "nbconvert_exporter": "python",
   "pygments_lexer": "ipython3",
   "version": "3.6.13"
  }
 },
 "nbformat": 4,
 "nbformat_minor": 5
}
