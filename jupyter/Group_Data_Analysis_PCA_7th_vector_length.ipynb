{
 "cells": [
  {
   "cell_type": "markdown",
   "id": "845d54a5",
   "metadata": {},
   "source": [
    "# Group Data Analysis PCA 7th Trial - vector length\n",
    "* Version: '0.0.4'\n",
    "* Date: 2021-05-03\n",
    "* Author: Jea Kwon\n",
    "* Description: PCA analysis with Vector length"
   ]
  },
  {
   "cell_type": "code",
   "execution_count": 1,
   "id": "25d7bbb6",
   "metadata": {},
   "outputs": [
    {
     "data": {
      "text/html": [
       "        <script type=\"text/javascript\">\n",
       "        window.PlotlyConfig = {MathJaxConfig: 'local'};\n",
       "        if (window.MathJax) {MathJax.Hub.Config({SVG: {font: \"STIX-Web\"}});}\n",
       "        if (typeof require !== 'undefined') {\n",
       "        require.undef(\"plotly\");\n",
       "        requirejs.config({\n",
       "            paths: {\n",
       "                'plotly': ['https://cdn.plot.ly/plotly-latest.min']\n",
       "            }\n",
       "        });\n",
       "        require(['plotly'], function(Plotly) {\n",
       "            window._Plotly = Plotly;\n",
       "        });\n",
       "        }\n",
       "        </script>\n",
       "        "
      ]
     },
     "metadata": {},
     "output_type": "display_data"
    }
   ],
   "source": [
    "from avatarpy import Avatar\n",
    "import os\n",
    "import glob\n",
    "import numpy as np\n",
    "import pandas as pd\n",
    "import seaborn as sns\n",
    "import matplotlib.pyplot as plt\n",
    "import cufflinks as cf\n",
    "from scipy.stats import zscore\n",
    "from sklearn.preprocessing import StandardScaler\n",
    "from sklearn.decomposition import PCA\n",
    "cf.go_offline(connected=True)"
   ]
  },
  {
   "cell_type": "code",
   "execution_count": 2,
   "id": "16c894f5",
   "metadata": {},
   "outputs": [],
   "source": [
    "root = r\"C:\\Users\\Jay\\Desktop\\avatar_young_adult\\data\\best1_20210503\""
   ]
  },
  {
   "cell_type": "code",
   "execution_count": 3,
   "id": "6829d38e",
   "metadata": {
    "scrolled": false
   },
   "outputs": [],
   "source": [
    "avatars = dict(\n",
    "    wt=dict(\n",
    "        young=[],\n",
    "        adult=[],\n",
    "    ),\n",
    "    ko=dict(\n",
    "        young=[],\n",
    "        adult=[],\n",
    "    )\n",
    ")\n",
    "for path, subdirs, files in os.walk(root):\n",
    "    for name in files:\n",
    "        if name.lower().endswith('.csv'):\n",
    "            csv_path = os.path.join(path, name)\n",
    "            age = os.path.basename(os.path.dirname(path))\n",
    "            genotype = os.path.basename(os.path.dirname(os.path.dirname(path)))\n",
    "            \n",
    "            avatars[genotype][age].append(Avatar(csv_path=csv_path, ID=name))"
   ]
  },
  {
   "cell_type": "markdown",
   "id": "74823e15",
   "metadata": {},
   "source": [
    "## Create walking event data\n",
    "### Definition of walking\n",
    "- Moved more than 5 cm in 1 second(20=Frame)\n",
    "- More details take a look Group_Data_Analysis_PCA_1st_Trial"
   ]
  },
  {
   "cell_type": "markdown",
   "id": "d00c7ff0",
   "metadata": {},
   "source": [
    "## Event Search function"
   ]
  },
  {
   "cell_type": "code",
   "execution_count": 4,
   "id": "2b7e9357",
   "metadata": {},
   "outputs": [],
   "source": [
    "def get_event_indices(boo, event_length):\n",
    "    \"\"\"Returns list of event indices.\n",
    "    \n",
    "    ex) [(start 1, end 1), (start 2, end 2), (start 3, end 3), ..., (start N, end N)]\n",
    "    \"\"\"\n",
    "    indices = np.arange(len(boo))\n",
    "    condition = np.nonzero(boo[1:] != boo[:-1])[0] + 1\n",
    "    split_indices = np.split(indices, condition)\n",
    "    true_indices = split_indices[0::2] if boo[0] else split_indices[1::2]\n",
    "    event_indice_pair = [(idx[0]-event_length+1, idx[0]+1) for idx in true_indices]\n",
    "    return event_indice_pair"
   ]
  },
  {
   "cell_type": "markdown",
   "id": "c03bb4fc",
   "metadata": {},
   "source": [
    "## Validation of event search"
   ]
  },
  {
   "cell_type": "markdown",
   "id": "742610d0",
   "metadata": {},
   "source": [
    "- Take a look Group_Data_Analysis_PCA_2nd_Trial"
   ]
  },
  {
   "cell_type": "markdown",
   "id": "14226966",
   "metadata": {},
   "source": [
    "## Collecting Event Angles data"
   ]
  },
  {
   "cell_type": "code",
   "execution_count": 6,
   "id": "0c3abcef",
   "metadata": {
    "scrolled": false
   },
   "outputs": [
    {
     "data": {
      "text/html": [
       "<div>\n",
       "<style scoped>\n",
       "    .dataframe tbody tr th:only-of-type {\n",
       "        vertical-align: middle;\n",
       "    }\n",
       "\n",
       "    .dataframe tbody tr th {\n",
       "        vertical-align: top;\n",
       "    }\n",
       "\n",
       "    .dataframe thead th {\n",
       "        text-align: right;\n",
       "    }\n",
       "</style>\n",
       "<table border=\"1\" class=\"dataframe\">\n",
       "  <thead>\n",
       "    <tr style=\"text-align: right;\">\n",
       "      <th></th>\n",
       "      <th>head</th>\n",
       "      <th>fbody</th>\n",
       "      <th>hbody</th>\n",
       "      <th>tail</th>\n",
       "      <th>rarm</th>\n",
       "      <th>larm</th>\n",
       "      <th>rleg</th>\n",
       "      <th>lleg</th>\n",
       "      <th>nose2anus</th>\n",
       "      <th>lhand2nose</th>\n",
       "      <th>rhand2nose</th>\n",
       "    </tr>\n",
       "  </thead>\n",
       "  <tbody>\n",
       "    <tr>\n",
       "      <th>0.00</th>\n",
       "      <td>9.410245</td>\n",
       "      <td>3.574401</td>\n",
       "      <td>3.519694</td>\n",
       "      <td>5.101311</td>\n",
       "      <td>5.728499</td>\n",
       "      <td>3.362272</td>\n",
       "      <td>6.704103</td>\n",
       "      <td>3.200380</td>\n",
       "      <td>9.996315</td>\n",
       "      <td>7.536721</td>\n",
       "      <td>6.597018</td>\n",
       "    </tr>\n",
       "    <tr>\n",
       "      <th>0.05</th>\n",
       "      <td>7.387418</td>\n",
       "      <td>3.558033</td>\n",
       "      <td>3.458351</td>\n",
       "      <td>5.188232</td>\n",
       "      <td>5.754445</td>\n",
       "      <td>3.408140</td>\n",
       "      <td>6.709485</td>\n",
       "      <td>3.204632</td>\n",
       "      <td>8.760924</td>\n",
       "      <td>5.820690</td>\n",
       "      <td>3.898378</td>\n",
       "    </tr>\n",
       "    <tr>\n",
       "      <th>0.10</th>\n",
       "      <td>6.400967</td>\n",
       "      <td>3.543443</td>\n",
       "      <td>3.397531</td>\n",
       "      <td>5.275158</td>\n",
       "      <td>5.780534</td>\n",
       "      <td>3.454296</td>\n",
       "      <td>6.715030</td>\n",
       "      <td>3.209005</td>\n",
       "      <td>7.931305</td>\n",
       "      <td>5.293270</td>\n",
       "      <td>2.125585</td>\n",
       "    </tr>\n",
       "    <tr>\n",
       "      <th>0.15</th>\n",
       "      <td>6.723319</td>\n",
       "      <td>3.527309</td>\n",
       "      <td>3.372314</td>\n",
       "      <td>5.285720</td>\n",
       "      <td>5.706205</td>\n",
       "      <td>3.356663</td>\n",
       "      <td>6.718106</td>\n",
       "      <td>3.201866</td>\n",
       "      <td>7.749557</td>\n",
       "      <td>5.447893</td>\n",
       "      <td>2.424113</td>\n",
       "    </tr>\n",
       "    <tr>\n",
       "      <th>0.20</th>\n",
       "      <td>7.050702</td>\n",
       "      <td>3.506418</td>\n",
       "      <td>3.347314</td>\n",
       "      <td>5.296472</td>\n",
       "      <td>5.643160</td>\n",
       "      <td>3.267415</td>\n",
       "      <td>6.721099</td>\n",
       "      <td>3.194854</td>\n",
       "      <td>7.676387</td>\n",
       "      <td>5.609470</td>\n",
       "      <td>2.743949</td>\n",
       "    </tr>\n",
       "    <tr>\n",
       "      <th>...</th>\n",
       "      <td>...</td>\n",
       "      <td>...</td>\n",
       "      <td>...</td>\n",
       "      <td>...</td>\n",
       "      <td>...</td>\n",
       "      <td>...</td>\n",
       "      <td>...</td>\n",
       "      <td>...</td>\n",
       "      <td>...</td>\n",
       "      <td>...</td>\n",
       "      <td>...</td>\n",
       "    </tr>\n",
       "    <tr>\n",
       "      <th>600.60</th>\n",
       "      <td>1.114350</td>\n",
       "      <td>2.367464</td>\n",
       "      <td>2.449871</td>\n",
       "      <td>5.666090</td>\n",
       "      <td>2.179295</td>\n",
       "      <td>1.647544</td>\n",
       "      <td>3.026077</td>\n",
       "      <td>2.970035</td>\n",
       "      <td>5.635336</td>\n",
       "      <td>3.427267</td>\n",
       "      <td>3.915971</td>\n",
       "    </tr>\n",
       "    <tr>\n",
       "      <th>600.65</th>\n",
       "      <td>1.079722</td>\n",
       "      <td>2.380271</td>\n",
       "      <td>2.451047</td>\n",
       "      <td>5.665732</td>\n",
       "      <td>2.503809</td>\n",
       "      <td>1.628503</td>\n",
       "      <td>3.026702</td>\n",
       "      <td>2.970741</td>\n",
       "      <td>5.643194</td>\n",
       "      <td>3.379875</td>\n",
       "      <td>4.030234</td>\n",
       "    </tr>\n",
       "    <tr>\n",
       "      <th>600.70</th>\n",
       "      <td>1.056214</td>\n",
       "      <td>2.372245</td>\n",
       "      <td>2.467017</td>\n",
       "      <td>5.670413</td>\n",
       "      <td>2.528012</td>\n",
       "      <td>1.634976</td>\n",
       "      <td>3.027679</td>\n",
       "      <td>2.965855</td>\n",
       "      <td>5.656110</td>\n",
       "      <td>3.403553</td>\n",
       "      <td>4.082573</td>\n",
       "    </tr>\n",
       "    <tr>\n",
       "      <th>600.75</th>\n",
       "      <td>1.079493</td>\n",
       "      <td>2.346944</td>\n",
       "      <td>2.482139</td>\n",
       "      <td>5.675011</td>\n",
       "      <td>2.524858</td>\n",
       "      <td>1.641376</td>\n",
       "      <td>3.028698</td>\n",
       "      <td>2.961087</td>\n",
       "      <td>5.669208</td>\n",
       "      <td>3.427280</td>\n",
       "      <td>4.095115</td>\n",
       "    </tr>\n",
       "    <tr>\n",
       "      <th>600.80</th>\n",
       "      <td>1.064449</td>\n",
       "      <td>2.373867</td>\n",
       "      <td>2.477990</td>\n",
       "      <td>5.679786</td>\n",
       "      <td>1.577333</td>\n",
       "      <td>1.638326</td>\n",
       "      <td>3.025417</td>\n",
       "      <td>2.956818</td>\n",
       "      <td>5.675326</td>\n",
       "      <td>3.436285</td>\n",
       "      <td>3.920090</td>\n",
       "    </tr>\n",
       "  </tbody>\n",
       "</table>\n",
       "<p>12017 rows × 11 columns</p>\n",
       "</div>"
      ],
      "text/plain": [
       "            head     fbody     hbody      tail      rarm      larm      rleg  \\\n",
       "0.00    9.410245  3.574401  3.519694  5.101311  5.728499  3.362272  6.704103   \n",
       "0.05    7.387418  3.558033  3.458351  5.188232  5.754445  3.408140  6.709485   \n",
       "0.10    6.400967  3.543443  3.397531  5.275158  5.780534  3.454296  6.715030   \n",
       "0.15    6.723319  3.527309  3.372314  5.285720  5.706205  3.356663  6.718106   \n",
       "0.20    7.050702  3.506418  3.347314  5.296472  5.643160  3.267415  6.721099   \n",
       "...          ...       ...       ...       ...       ...       ...       ...   \n",
       "600.60  1.114350  2.367464  2.449871  5.666090  2.179295  1.647544  3.026077   \n",
       "600.65  1.079722  2.380271  2.451047  5.665732  2.503809  1.628503  3.026702   \n",
       "600.70  1.056214  2.372245  2.467017  5.670413  2.528012  1.634976  3.027679   \n",
       "600.75  1.079493  2.346944  2.482139  5.675011  2.524858  1.641376  3.028698   \n",
       "600.80  1.064449  2.373867  2.477990  5.679786  1.577333  1.638326  3.025417   \n",
       "\n",
       "            lleg  nose2anus  lhand2nose  rhand2nose  \n",
       "0.00    3.200380   9.996315    7.536721    6.597018  \n",
       "0.05    3.204632   8.760924    5.820690    3.898378  \n",
       "0.10    3.209005   7.931305    5.293270    2.125585  \n",
       "0.15    3.201866   7.749557    5.447893    2.424113  \n",
       "0.20    3.194854   7.676387    5.609470    2.743949  \n",
       "...          ...        ...         ...         ...  \n",
       "600.60  2.970035   5.635336    3.427267    3.915971  \n",
       "600.65  2.970741   5.643194    3.379875    4.030234  \n",
       "600.70  2.965855   5.656110    3.403553    4.082573  \n",
       "600.75  2.961087   5.669208    3.427280    4.095115  \n",
       "600.80  2.956818   5.675326    3.436285    3.920090  \n",
       "\n",
       "[12017 rows x 11 columns]"
      ]
     },
     "execution_count": 6,
     "metadata": {},
     "output_type": "execute_result"
    }
   ],
   "source": [
    "ava = avatars['wt']['young'][0]\n",
    "ava.vector_length"
   ]
  },
  {
   "cell_type": "markdown",
   "id": "5c49be69",
   "metadata": {},
   "source": [
    "- Take a look Group_Data_Analysis_PCA_2nd_Trial"
   ]
  },
  {
   "cell_type": "code",
   "execution_count": 15,
   "id": "266d23df",
   "metadata": {
    "scrolled": false
   },
   "outputs": [],
   "source": [
    "wt_young_event_data = []\n",
    "for avatar in avatars['wt']['young']:\n",
    "    boo = (avatar.distance['anus'].rolling(20).sum()>5).values # boolean array\n",
    "    event_indices = get_event_indices(boo, 20)\n",
    "    for i, idx in enumerate(event_indices):\n",
    "        x = avatar.vector_length.loc[avatar.index[idx[0]:idx[1]]]\n",
    "        if x.shape[0]!=20:\n",
    "            continue\n",
    "        wt_young_event_data.append(x.values.flatten())\n",
    "wt_young_event_data = np.stack(wt_young_event_data)"
   ]
  },
  {
   "cell_type": "code",
   "execution_count": 16,
   "id": "a475bc7f",
   "metadata": {
    "scrolled": false
   },
   "outputs": [],
   "source": [
    "wt_adult_event_data = []\n",
    "for avatar in avatars['wt']['adult']:\n",
    "    boo = (avatar.distance['anus'].rolling(20).sum()>5).values # boolean array\n",
    "    event_indices = get_event_indices(boo, 20)\n",
    "    event_data = []\n",
    "    for i, idx in enumerate(event_indices):\n",
    "        x = avatar.vector_length.loc[avatar.index[idx[0]:idx[1]]]\n",
    "        if x.shape[0]!=20:\n",
    "            continue\n",
    "        wt_adult_event_data.append(x.values.flatten())\n",
    "wt_adult_event_data = np.stack(wt_adult_event_data)"
   ]
  },
  {
   "cell_type": "markdown",
   "id": "5654552f",
   "metadata": {},
   "source": [
    "total 1857 events acquired from 5 wt young mice with 5 session.  \n",
    "total 2248 events acquired from 5 wt adult mice with 5 session."
   ]
  },
  {
   "cell_type": "code",
   "execution_count": 17,
   "id": "4e540801",
   "metadata": {},
   "outputs": [],
   "source": [
    "X = np.concatenate([wt_young_event_data, wt_adult_event_data])\n",
    "X_ = StandardScaler().fit_transform(X)"
   ]
  },
  {
   "cell_type": "code",
   "execution_count": 18,
   "id": "ef357c10",
   "metadata": {},
   "outputs": [],
   "source": [
    "X_[np.isnan(X_)] = 0"
   ]
  },
  {
   "cell_type": "code",
   "execution_count": 19,
   "id": "bde87255",
   "metadata": {},
   "outputs": [],
   "source": [
    "pca = PCA(n_components=2)\n",
    "pc = pca.fit_transform(X_)"
   ]
  },
  {
   "cell_type": "code",
   "execution_count": 20,
   "id": "fa88ef76",
   "metadata": {},
   "outputs": [],
   "source": [
    "y = np.concatenate([np.zeros(wt_young_event_data.shape[0]), np.ones(wt_adult_event_data.shape[0])])"
   ]
  },
  {
   "cell_type": "code",
   "execution_count": 21,
   "id": "354107ef",
   "metadata": {},
   "outputs": [],
   "source": [
    "pc_y = np.c_[pc,y]\n",
    "df = pd.DataFrame(pc_y,columns=['PC1','PC2','genotype'])"
   ]
  },
  {
   "cell_type": "code",
   "execution_count": 25,
   "id": "5e7b1d50",
   "metadata": {
    "scrolled": true
   },
   "outputs": [
    {
     "data": {
      "text/plain": [
       "(-30.0, 30.0)"
      ]
     },
     "execution_count": 25,
     "metadata": {},
     "output_type": "execute_result"
    },
    {
     "data": {
      "image/png": "[encoded data removed]",
      "text/plain": [
       "<Figure size 432x288 with 1 Axes>"
      ]
     },
     "metadata": {
      "needs_background": "light"
     },
     "output_type": "display_data"
    }
   ],
   "source": [
    "sns.scatterplot(data=df,x='PC1',y='PC2',hue='genotype', alpha=0.2)\n",
    "plt.xlim(-30, 30)\n",
    "plt.ylim(-30, 30)"
   ]
  }
 ],
 "metadata": {
  "kernelspec": {
   "display_name": "Python 3",
   "language": "python",
   "name": "python3"
  },
  "language_info": {
   "codemirror_mode": {
    "name": "ipython",
    "version": 3
   },
   "file_extension": ".py",
   "mimetype": "text/x-python",
   "name": "python",
   "nbconvert_exporter": "python",
   "pygments_lexer": "ipython3",
   "version": "3.6.13"
  }
 },
 "nbformat": 4,
 "nbformat_minor": 5
}
